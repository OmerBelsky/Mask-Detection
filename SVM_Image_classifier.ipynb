{
 "cells": [
  {
   "cell_type": "code",
   "execution_count": 11,
   "metadata": {
    "collapsed": true
   },
   "outputs": [],
   "source": [
    "import os\n",
    "\n",
    "import matplotlib as mpl\n",
    "import matplotlib.pyplot as plt\n",
    "from IPython.display import display\n",
    "%matplotlib inline\n",
    "\n",
    "import pandas as pd\n",
    "import numpy as np\n",
    "\n",
    "from PIL import Image\n",
    "\n",
    "from skimage.feature import hog\n",
    "from skimage.color import rgb2grey\n",
    "\n",
    "from sklearn.model_selection import train_test_split\n",
    "from sklearn.metrics import accuracy_score, roc_auc_score, f1_score\n",
    "from sklearn.preprocessing import StandardScaler\n",
    "from sklearn.decomposition import PCA\n",
    "from sklearn.svm import LinearSVC\n",
    "from time import time\n",
    "from sklearn.metrics import roc_curve, auc"
   ]
  },
  {
   "cell_type": "code",
   "execution_count": 2,
   "metadata": {
    "collapsed": true
   },
   "outputs": [],
   "source": [
    "def create_features(img):\n",
    "    color_features = img.flatten()\n",
    "    # convert image to greyscale\n",
    "    grey_image = rgb2grey(img)\n",
    "    flat_features = np.hstack(grey_image)\n",
    "    return flat_features\n"
   ]
  },
  {
   "cell_type": "code",
   "execution_count": 3,
   "metadata": {},
   "outputs": [],
   "source": [
    "train_path = \"train/\"\n",
    "test_path = \"test/\""
   ]
  },
  {
   "cell_type": "code",
   "execution_count": 4,
   "metadata": {},
   "outputs": [],
   "source": [
    "X_train = []\n",
    "X_test = []\n",
    "y_train = []\n",
    "y_test = []\n",
    "\n",
    "for label in [0, 1]:\n",
    "    root = train_path + str(label) + \"/\"\n",
    "    for image_path in os.listdir(root):\n",
    "        y_train.append(label)\n",
    "        im = np.array(Image.open(root + image_path).resize((180, 180)))\n",
    "        x = create_features(im)\n",
    "        X_train.append(x)\n",
    "\n",
    "    root = test_path + str(label) + \"/\"\n",
    "    for image_path in os.listdir(root):\n",
    "        y_test.append(label)\n",
    "        im = np.array(Image.open(root + image_path).resize((180, 180)))\n",
    "        x = create_features(im)\n",
    "        X_test.append(x)"
   ]
  },
  {
   "cell_type": "code",
   "execution_count": 5,
   "metadata": {},
   "outputs": [],
   "source": [
    "p = np.random.permutation(len(X_train))\n",
    "X_train = np.array(X_train)[p]\n",
    "y_train = np.array(y_train)[p]\n",
    "p = np.random.permutation(len(X_test))\n",
    "X_test = np.array(X_test)[p]\n",
    "y_test = np.array(y_test)[p]"
   ]
  },
  {
   "cell_type": "code",
   "execution_count": 6,
   "metadata": {},
   "outputs": [],
   "source": [
    "pca = PCA(300)\n",
    "pca.fit(X_train)\n",
    "X_train = pca.transform(X_train)\n",
    "X_test = pca.transform(X_test)"
   ]
  },
  {
   "cell_type": "code",
   "execution_count": 7,
   "metadata": {},
   "outputs": [
    {
     "output_type": "execute_result",
     "data": {
      "text/plain": "LinearSVC(random_state=42)"
     },
     "metadata": {},
     "execution_count": 7
    }
   ],
   "source": [
    "# define support vector classifier\n",
    "svm = LinearSVC(random_state=42)\n",
    "\n",
    "# fit model\n",
    "svm.fit(X_train, y_train)"
   ]
  },
  {
   "cell_type": "code",
   "execution_count": 12,
   "metadata": {},
   "outputs": [
    {
     "output_type": "stream",
     "name": "stdout",
     "text": "0.7615422531354401\n0.7581334209661518\n0.7729216647543549\n0.7704304429195259\n0.7631838731902827\n0.7587848033012858\n"
    }
   ],
   "source": [
    "y_pred = svm.predict(X_test)\n",
    "y_pred_train = svm.predict(X_train)\n",
    "\n",
    "print(accuracy_score(y_train, y_pred_train))\n",
    "print(accuracy_score(y_test, y_pred))\n",
    "print(f1_score(y_train, y_pred_train))\n",
    "print(f1_score(y_test, y_pred))\n",
    "print(roc_auc_score(y_train, y_pred_train))\n",
    "print(roc_auc_score(y_test, y_pred))"
   ]
  }
 ],
 "metadata": {
  "kernelspec": {
   "display_name": "Python 3",
   "language": "python",
   "name": "python3"
  },
  "language_info": {
   "codemirror_mode": {
    "name": "ipython",
    "version": 3
   },
   "file_extension": ".py",
   "mimetype": "text/x-python",
   "name": "python",
   "nbconvert_exporter": "python",
   "pygments_lexer": "ipython3",
   "version": "3.8.3-final"
  }
 },
 "nbformat": 4,
 "nbformat_minor": 4
}